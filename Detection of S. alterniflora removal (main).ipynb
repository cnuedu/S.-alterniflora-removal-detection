{
 "cells": [
  {
   "cell_type": "code",
   "execution_count": null,
   "id": "f07f1a31",
   "metadata": {},
   "outputs": [],
   "source": [
    "# Writed in August 31, 2023\n",
    "# Author : Yukui Min\n",
    "# Email : 2210902155@cnu.edu.cn\n",
    "# Institude :Capital Normal University, Beijing, 100048, China"
   ]
  },
  {
   "cell_type": "code",
   "execution_count": null,
   "id": "8d61bc40",
   "metadata": {},
   "outputs": [],
   "source": [
    "import ee\n",
    "import collections\n",
    "import os\n",
    "import geemap\n",
    "import subprocess\n",
    "import math\n",
    "import helper_function as F\n",
    "os.environ['HTTP_PROXY'] = 'http://127.0.0.1:33210'\n",
    "os.environ['HTTPS_PROXY'] = 'http://127.0.0.1:33210'\n",
    "collections.Callable = collections.abc.Callable\n",
    "ee.Initialize()"
   ]
  },
  {
   "cell_type": "code",
   "execution_count": 62,
   "id": "3fc14320",
   "metadata": {},
   "outputs": [],
   "source": [
    "# load ROI data\n",
    "ROI = 'D:/hhmc_roi/hhmc2/HHMC_SD/HHMC_SD_p1.shp'\n",
    "ROI = geemap.shp_to_ee(ROI)\n",
    "ROI = ROI.geometry()\n",
    "Map = geemap.Map()\n",
    "Map.addLayer(ROI)\n",
    "\n",
    "tide_roi1 = ROI\n",
    "# Map"
   ]
  },
  {
   "cell_type": "code",
   "execution_count": 14,
   "id": "60900698",
   "metadata": {},
   "outputs": [],
   "source": [
    "\n",
    "# tide_roi1 = Map.draw_last_feature\n",
    "# tide_roi1 = tide_roi1.geometry()"
   ]
  },
  {
   "cell_type": "code",
   "execution_count": 40,
   "id": "50621cd9",
   "metadata": {},
   "outputs": [],
   "source": [
    "S2 = ee.ImageCollection(\"COPERNICUS/S2_SR_HARMONIZED\")\n",
    "L8 = ee.ImageCollection(\"LANDSAT/LC08/C01/T1_SR\")\n",
    "#L8  = ee.ImageCollection(\"LANDSAT/LC08/C02/T1_L2\")\n",
    "\n",
    "bandIn_S2 = ['B2','B3','B4','B8','cloud']\n",
    "bandOut = ['blue','green','red','nir','cloud']\n",
    "#bandIn_L8 = ['SR_B2','SR_B3','SR_B4','SR_B5','QA_PIXEL']\n",
    "bandIn_L8 = ['B2','B3','B4','B5','pixel_qa']\n",
    "\n",
    "\n",
    "start_date = '2021-01-01'\n",
    "end_date = '2021-12-17'\n",
    "MGRS_TILE = '50SPG'\n",
    "SENSING_ORBIT_NUMBER = 132\n",
    "CLOUDY_PIXEL_PERCENTAGE = 30\n",
    "WRS_PATH = 121\n",
    "WRS_ROW = 34"
   ]
  },
  {
   "cell_type": "code",
   "execution_count": 41,
   "id": "920a5a0b",
   "metadata": {},
   "outputs": [],
   "source": [
    "# Sentinel-2 cloud removal by S2cloudless product\n",
    "S2_cloud_removal = F.get_s2_sr_cld_col(tide_roi1, start_date, end_date,MGRS_TILE,SENSING_ORBIT_NUMBER,CLOUDY_PIXEL_PERCENTAGE)\n",
    "\n",
    "# add cloud band\n",
    "S2_cloudless = S2_cloud_removal.map(F.add_cloud_bands)\n",
    "\n",
    "# Bands rename\n",
    "S2_datesat_2021 = S2_cloudless.select(bandIn_S2,bandOut)"
   ]
  },
  {
   "cell_type": "code",
   "execution_count": 43,
   "id": "35e67674",
   "metadata": {},
   "outputs": [],
   "source": [
    "\n",
    "def CLIP(img):\n",
    "    return img.clip(tide_roi1).unmask(1)\n",
    "\n",
    "# import Sentinel-2 SR and Landsat 8 SR (Surface reflectance)\n",
    "\n",
    "S2_datesat_2021 = S2_datesat_2021.filterBounds(tide_roi1)\\\n",
    "            .filterDate(start_date,end_date)\\\n",
    "            .filter(ee.Filter.eq('MGRS_TILE',MGRS_TILE))\\\n",
    "            .filter(ee.Filter.eq('SENSING_ORBIT_NUMBER',SENSING_ORBIT_NUMBER))\\\n",
    "            .map(F.addtime)\\\n",
    "            .map(CLIP).filter(ee.Filter.neq('DOY',326)) # Remove poor quality images\n",
    "\n",
    "L8_datesat_2021 = L8.filterBounds(tide_roi1)\\\n",
    "            .filterDate(start_date,end_date)\\\n",
    "            .filter(ee.Filter.lt('CLOUD_COVER',CLOUDY_PIXEL_PERCENTAGE))\\\n",
    "            .filter(ee.Filter.eq('WRS_PATH',WRS_PATH))\\\n",
    "            .filter(ee.Filter.eq('WRS_ROW',WRS_ROW))\\\n",
    "            .select(bandIn_L8,bandOut)\\\n",
    "            .map(F.cloud_mask_L8)\\\n",
    "            .map(F.addtime)\\\n",
    "            .map(CLIP)\\\n",
    "            .filter(ee.Filter.neq('DOY',156))\\\n",
    "            .filter(ee.Filter.neq('DOY',316))\\\n",
    "            .filter(ee.Filter.neq('DOY',348)) # Remove poor quality images"
   ]
  },
  {
   "cell_type": "code",
   "execution_count": 49,
   "id": "4f3b983d",
   "metadata": {},
   "outputs": [
    {
     "name": "stdout",
     "output_type": "stream",
     "text": [
      "9\n"
     ]
    }
   ],
   "source": [
    "# Sentinel-2 and Landsat 8 fusion\n",
    "# Step 1 : Spatial register and resample \n",
    "# Step 2 : Band adjust by transformation functions developed by Xie et al. (2022)\n",
    "# citation ：Xie, S., Sun, L., Liu, L., Liu, X., 2022. Global Cross-Sensor Transformation Functions for Landsat-8 and Sentinel-2 Top of \n",
    "# Atmosphere and Surface Reflectance Products Within Google Earth Engine. IEEE Trans. Geosci. Remote Sens., 60, 1-9.\n",
    "\n",
    "refer_img = S2_datesat_2021.first()\n",
    "\n",
    "# transformation parameters \n",
    "SlopeL8 = [1.0296,1.0661,0.9804,1.0326,1,1]\n",
    "offsetL8 = [17,-13,39,101,0,0]\n",
    "\n",
    "S2_datesat_2021 =  S2_datesat_2021.map(F.toint)\n",
    "S2_LIST = S2_datesat_2021.toList(S2_datesat_2021.size())\n",
    "mlist = S2_LIST\n",
    "L8_LIST = L8_datesat_2021.toList(L8_datesat_2021.size())\n",
    "n = L8_datesat_2021.size().getInfo()\n",
    "\n",
    "for i in range(n):\n",
    "    \n",
    "    img = ee.Image(L8_LIST.get(i))\n",
    "    # Spatial_register ( Landsat 8 to Sentinel-2 )\n",
    "    registered = F.Spatial_register(img,refer_img) \n",
    "    \n",
    "    # Landsat 8 resample to 10m by bicubic \n",
    "    resampled = ee.Image(F.resample_L8(registered,refer_img))\n",
    "    \n",
    "    # band adjustment by transformation functions developed by Xie et al. (2022)\n",
    "    harmoic_L8 = F.band_adjust(resampled,SlopeL8,offsetL8).multiply(1000).toInt().divide(1000)#.unmask(1)\n",
    "    \n",
    "    mlist = mlist.add(harmoic_L8)\n",
    "    \n",
    "collect = ee.ImageCollection.fromImages(mlist)\n",
    "\n",
    "# fusion collection sort by images time (DOY)\n",
    "\n",
    "doy_array = collect.toArray().arraySlice(1,5,6)\n",
    "sorted_array =  collect.toArray().arraySort(doy_array)\n",
    "\n",
    "n = collect.size().getInfo()\n",
    "name = [str(j) for j in range(n)]\n",
    "\n",
    "bandname = ['blue','green','red','nir','cloud','doy']\n",
    "img_list = ee.List([])\n",
    "for i in range(n):\n",
    "    img = sorted_array.arraySlice(0,i,i+1).arrayProject([1]).arrayFlatten([bandname])\n",
    "    img_list = img_list.add(img)\n",
    "    \n",
    "datesat_2021 = ee.ImageCollection.fromImages(img_list)\n"
   ]
  },
  {
   "cell_type": "code",
   "execution_count": 51,
   "id": "c95d084a",
   "metadata": {},
   "outputs": [],
   "source": [
    "\n",
    "# Filling cloud-pixels by time-series linear interpolation \n",
    "\n",
    "img_list_2021 = datesat_2021.toList(datesat_2021.size())\n",
    "n = datesat_2021.size().getInfo()\n",
    "datesat_QY_2021 = ee.ImageCollection(ee.Image(img_list_2021.get(0)).multiply(1000).toInt().divide(1000))\n",
    "\n",
    "for k in range(1,n-1):\n",
    "    img = ee.Image(img_list_2021.get(k))\n",
    "    img_before = ee.Image(img_list_2021.get(k-1))\n",
    "    img_after = ee.Image(img_list_2021.get(k+1))\n",
    "    image = ee.ImageCollection(F.linear_interpolate(img,img_before,img_after))\n",
    "    datesat_QY_2021 = datesat_QY_2021.merge(image)\n",
    "\n",
    "datesat_QY_2021 = datesat_QY_2021.merge(ee.ImageCollection(ee.Image(img_list_2021.get(n-1)).multiply(1000).toInt().divide(1000)))\n",
    "datesat_QY_2021 = datesat_QY_2021.map(F.addNDVI).map(F.addNDWI)\n",
    "datesat_QY_2021 = datesat_QY_2021.select(['doy','NDVI','NDWI'])\n",
    "\n",
    "# unmask Null pixels\n",
    "def bc(img):\n",
    "    return img.unmask(0).clip(tide_roi1)\n",
    "\n",
    "datesat_QY_2021 = datesat_QY_2021.map(bc)"
   ]
  },
  {
   "cell_type": "code",
   "execution_count": 52,
   "id": "fbd8dc16",
   "metadata": {},
   "outputs": [
    {
     "name": "stdout",
     "output_type": "stream",
     "text": [
      "['NDVI0', 'NDVI1', 'NDVI2', 'NDVI3', 'NDVI4', 'NDVI5', 'NDVI6', 'NDVI7', 'NDVI8', 'NDVI9', 'NDVI10', 'NDVI11', 'NDVI12', 'NDVI13', 'NDVI14', 'NDVI15', 'NDVI16', 'NDVI17', 'NDVI18', 'NDVI19', 'NDVI20', 'NDVI21', 'NDVI22', 'NDVI23', 'NDVI24', 'NDVI25', 'NDVI26', 'NDVI27', 'NDVI28', 'NDVI29', 'NDVI30', 'NDVI31', 'NDVI32', 'NDVI33', 'NDVI34', 'NDVI35', 'NDVI36', 'NDVI37', 'NDVI38', 'NDVI39', 'NDVI40', 'NDVI41', 'NDVI42']\n"
     ]
    }
   ],
   "source": [
    "# define bands name\n",
    "n = datesat_QY_2021.size().getInfo()\n",
    "NDVI_no = [k for k in range(0,n)]\n",
    "NDVI_no = ['NDVI'+str(k) for k in NDVI_no]\n",
    "# print(NDVI_no)"
   ]
  },
  {
   "cell_type": "code",
   "execution_count": 53,
   "id": "79b9a5ce",
   "metadata": {},
   "outputs": [],
   "source": [
    "# Apply Tide Gap Filling aglorithm in NDVI timeseries\n",
    "Bands = 'NDVI'\n",
    "datesat_QY_TGF_2021 = F.apply_TGF_to_timeseries(datesat_QY_2021,Bands)"
   ]
  },
  {
   "cell_type": "code",
   "execution_count": 55,
   "id": "9524b81d",
   "metadata": {},
   "outputs": [
    {
     "name": "stdout",
     "output_type": "stream",
     "text": [
      "15\n"
     ]
    }
   ],
   "source": [
    "# get NDVI-loacl-maximum (NDVIlm) time series\n",
    "composite_datesat_2021 = F.NDVI_local_maximum(datesat_QY_TGF_2021)\n",
    "\n",
    "# count  differences of each pair of adjacent observations (∆𝑁𝐷𝑉𝐼) \n",
    "dif_NDVI_composite_datesat_2021 = F.count_VI_dif(composite_datesat_2021)\n",
    "\n",
    "#\n",
    "filter_datesat_s_2021 = F.NDVI_lm_sort(datesat_QY_TGF_2021,dif_NDVI_composite_datesat_2021)\n",
    "\n",
    "# Extract Potential removal peorid ---> PCT_datesat_2021\n",
    "# PCT_datesat_2021 is ImageCollection include six images with bands of doy and NDVI\n",
    "PCT_datesat_2021 = F.extract_potential_removal_period(filter_datesat_s_2021)"
   ]
  },
  {
   "cell_type": "code",
   "execution_count": 56,
   "id": "9478bf21",
   "metadata": {},
   "outputs": [],
   "source": [
    "# dif_NDVI_composite_datesat is  DIF_NDVI\n",
    "\n",
    "DIF_NDVI_max = dif_NDVI_composite_datesat_2021.qualityMosaic('NDVI')\n",
    "t_before = DIF_NDVI_max.select('doy_before') # t1\n",
    "t_after =  DIF_NDVI_max.select('doy_after')  # t2\n",
    "\n",
    "# S. alterniflora standard phenological curves of Shandong\n",
    "a0 = 0.34824\n",
    "a1 = -0.06868\n",
    "b1 = -0.22907\n",
    "a2 = -0.01245\n",
    "b2 = -0.0168\n",
    "\n",
    "#y = a0 + a1*cos(2*pi*t/365) + b1*sin(2*pi*t/365) + a2*cos(4*pi*t/365) + b2*sin(4*pi*t/365)\n",
    "\n",
    "y1 = ((t_before.multiply(2*math.pi/365)).cos().multiply(a1)).add((t_before.multiply(2*math.pi/365)).sin().multiply(b1))\n",
    "y2 = ((t_before.multiply(4*math.pi/365)).cos().multiply(a2)).add((t_before.multiply(4*math.pi/365)).sin().multiply(b2))\n",
    "y_before = (y1.add(y2).add(a0)).multiply(1000).toInt().divide(1000)\n",
    "\n",
    "y3 = ((t_after.multiply(2*math.pi/365)).cos().multiply(a1)).add((t_after.multiply(2*math.pi/365)).sin().multiply(b1))\n",
    "y4 = ((t_after.multiply(4*math.pi/365)).cos().multiply(a2)).add((t_after.multiply(4*math.pi/365)).sin().multiply(b2))\n",
    "y_after = (y3.add(y4).add(a0)).multiply(1000).toInt().divide(1000)\n",
    "\n",
    "\n",
    "\n",
    "# PCT_dif_NDVI ---> ∆𝑁𝐷𝑉𝐼 \n",
    "# Dy_thred -->  ∆𝑁𝐷𝑉𝐼pheno\n",
    "PCT_dif_NDVI = dif_NDVI_composite_datesat_2021.qualityMosaic('NDVI').select('NDVI')\n",
    "Dy_thred = (y_before.subtract(y_after)).rename('NDVI')\n",
    "dif_Dy_thred = PCT_dif_NDVI.subtract(Dy_thred)\n",
    "\n",
    "#   get_last_img_NDVI  ( NDVI_last )\n",
    "\n",
    "n = datesat_QY_TGF_2021.size().getInfo()\n",
    "datesat_list = datesat_QY_TGF_2021.toList(n)\n",
    "img = ee.Image(datesat_list.get(n-1))\n",
    "img_NDVI = img.select('NDVI')"
   ]
  },
  {
   "cell_type": "code",
   "execution_count": 57,
   "id": "0e0aeb6c",
   "metadata": {},
   "outputs": [
    {
     "name": "stdout",
     "output_type": "stream",
     "text": [
      "6\n"
     ]
    }
   ],
   "source": [
    "Non_clearing_mask_2021  = (img_NDVI.gt(0.32).And(dif_Dy_thred.lte(0.1))).Or(img_NDVI.gt(0.45))\n",
    "\n",
    "viz1 = {\n",
    "    'bands':['doy_after'],\n",
    "    'max':365,\n",
    "    'min':150,\n",
    "    'palette': ['276419','d7301f','ef6548','fc8d59','fdbb84','fdd49e','fee8c8','f7fcf0','e0f3db','ccebc5','a8ddb5','7bccc4','4eb3d3','2b8cbe','0868ac']\n",
    "}\n",
    "\n",
    "PCT_datesat_dif_2021 = F.count_VI_dif(PCT_datesat_2021)\n",
    "MM_2021 = PCT_datesat_dif_2021.qualityMosaic('NDVI')\n",
    "\n",
    "clearing_mask_2021 = Non_clearing_mask_2021.add(-1)\n",
    "clearing_mask_2021 = clearing_mask_2021.where(clearing_mask_2021.lt(0),1)\n",
    "\n",
    "\n",
    "clearing_region_2021 = MM_2021.updateMask(clearing_mask_2021)\n",
    "Non_clearing_region_2021 = (MM_2021.updateMask(Non_clearing_mask_2021)).multiply(0)\n",
    "merge_2021 = ee.ImageCollection([clearing_region_2021,Non_clearing_region_2021])\n",
    "\n",
    "hhmc_shp = HHMC4_DZG\n",
    "harvest_date_2021 = merge_2021.mosaic()"
   ]
  },
  {
   "cell_type": "code",
   "execution_count": 58,
   "id": "170d44fb",
   "metadata": {},
   "outputs": [],
   "source": [
    "hhmc_shp = HHMC4_DZG\n",
    "harvest_date_2021 = merge_2021.mosaic()\n",
    "harvest_date_2021_clip = harvest_date_2021.clip(hhmc_shp)"
   ]
  },
  {
   "cell_type": "code",
   "execution_count": 28,
   "id": "2cd6a093",
   "metadata": {},
   "outputs": [],
   "source": [
    "QQ = geemap.Map()\n",
    "QQ.addLayer(harvest_date_2021_clip,viz1,'harvest_date_2022_clip')"
   ]
  },
  {
   "cell_type": "code",
   "execution_count": 61,
   "id": "153c5171",
   "metadata": {},
   "outputs": [],
   "source": [
    "# Export \n",
    "\n",
    "root_file = 'D:/hhmc_roi/hhmc2/roi_xz/'\n",
    "out_dir = 'D:\\hhmc_roi\\SD_result\\zasfc'\n",
    "for i in range(1,10):\n",
    "    roi_folder = root_file + 'HHK'+str(i)+'.shp'\n",
    "    #print(roi_folder)\n",
    "    roi = geemap.shp_to_ee(roi_folder)\n",
    "    roi = roi.geometry()\n",
    "    \n",
    "    name = 'S2_HHKb_kc' + str(i) + '.tif'\n",
    "    filename = os.path.join(out_dir, name)\n",
    "    print(filename)\n",
    "    harvest_date_2021_k = harvest_date_2021.select('doy_after')\n",
    "    geemap.ee_export_image(\n",
    "        harvest_date_2021_k, filename=filename, scale=10, region=roi, file_per_band=False\n",
    "    )\n"
   ]
  }
 ],
 "metadata": {
  "kernelspec": {
   "display_name": "Python 3 (ipykernel)",
   "language": "python",
   "name": "python3"
  },
  "language_info": {
   "codemirror_mode": {
    "name": "ipython",
    "version": 3
   },
   "file_extension": ".py",
   "mimetype": "text/x-python",
   "name": "python",
   "nbconvert_exporter": "python",
   "pygments_lexer": "ipython3",
   "version": "3.8.13"
  }
 },
 "nbformat": 4,
 "nbformat_minor": 5
}
